{
 "nbformat": 4,
 "nbformat_minor": 0,
 "metadata": {
  "colab": {
   "provenance": []
  },
  "kernelspec": {
   "name": "python3",
   "display_name": "Python 3"
  },
  "language_info": {
   "name": "python"
  }
 },
 "cells": [
  {
   "cell_type": "code",
   "source": [
    "import pandas as pd\n",
    "from sklearn.pipeline import Pipeline\n",
    "from sklearn.preprocessing import StandardScaler, OneHotEncoder\n",
    "from sklearn.linear_model import LogisticRegression\n",
    "from sklearn.impute import SimpleImputer\n",
    "from sklearn.compose import ColumnTransformer\n",
    "from sklearn.preprocessing import FunctionTransformer\n",
    "from sklearn.compose import make_column_selector\n",
    "from sklearn.utils import resample\n",
    "from sklearn.metrics import roc_auc_score\n",
    "from datetime import datetime\n",
    "import dill"
   ],
   "metadata": {
    "colab": {
     "base_uri": "https://localhost:8080/"
    },
    "id": "GcCLp1k88uqo",
    "outputId": "7f43461a-b0a5-4968-9c33-114c6921e11c"
   },
   "execution_count": 1,
   "outputs": []
  },
  {
   "cell_type": "code",
   "source": [
    "df = pd.read_csv('ga_hits.csv')\n",
    "df1 = pd.read_csv('ga_sessions.csv', low_memory=False)"
   ],
   "metadata": {
    "id": "hyvyuuZ8oAOL"
   },
   "execution_count": 2,
   "outputs": []
  },
  {
   "cell_type": "code",
   "source": [
    "df = df[['session_id', 'event_action']]\n",
    "df = df.drop_duplicates(subset='session_id', keep='first')\n",
    "df1 = df1.merge(df, how='left', on='session_id')\n",
    "df1 = df1.drop(columns=['device_os', 'utm_keyword', 'device_model'], axis=1)"
   ],
   "metadata": {
    "id": "eOWj-cLBwIbt"
   },
   "execution_count": 3,
   "outputs": []
  },
  {
   "cell_type": "code",
   "source": [
    "def target_change(y):\n",
    "  target = ['sub_car_claim_click', \n",
    "            'sub_car_claim_submit_click', \n",
    "            'sub_open_dialog_click', \n",
    "            'sub_open_dialog_click', \n",
    "            'sub_custom_question_submit_click',\n",
    "            'sub_submit_success',\n",
    "            'sub_car_request_submit_click'\n",
    "  ]\n",
    "  if y in target:\n",
    "    return 1\n",
    "  return 0\n",
    "    \n",
    "  \n",
    "\n",
    "\n",
    "def organic_add(y):\n",
    "  organic = ['organic', 'referral', '(none)'] \n",
    "  if y in organic:\n",
    "    return 1\n",
    "  return 0  \n",
    "\n",
    "\n",
    "def paid_add(y):\n",
    "  paid = ['organic', 'referral', '(none)'] \n",
    "  if y in paid:\n",
    "    return 0\n",
    "  return 1"
   ],
   "metadata": {
    "id": "I79-U3yZfxu9"
   },
   "execution_count": 4,
   "outputs": []
  },
  {
   "cell_type": "code",
   "source": [
    "df1['event_action'] = df1['event_action'].apply(target_change)\n",
    "df1['organic_traffic'] = df1['utm_medium'].apply(organic_add)\n",
    "df1['paid_traffic'] = df1['utm_medium'].apply(paid_add)"
   ],
   "metadata": {
    "id": "2gSEXTsBf2m1"
   },
   "execution_count": 5,
   "outputs": []
  },
  {
   "cell_type": "code",
   "source": [
    "def downsample(df1):\n",
    "  df_min = df1[df1['event_action'] == 1]\n",
    "  df_maj = df1[df1['event_action'] == 0]\n",
    "  df_maj_downsample = resample(df_maj, replace=False, n_samples=len(df_min), random_state=42)\n",
    "  df1 = pd.concat([df_maj_downsample, df_min], ignore_index=True).sample(frac=1.)\n",
    "  \n",
    "  return df1\n",
    "df1 = downsample(df1)"
   ],
   "metadata": {
    "id": "tKWeWME5t_tH"
   },
   "execution_count": 6,
   "outputs": []
  },
  {
   "cell_type": "code",
   "source": [
    "def time_add(df1):\n",
    "  df1[\"visit_date\"] = pd.to_datetime(df1[\"visit_date\"])\n",
    "  df1['date_month'] = df1['visit_date'].apply(lambda x: x.month)\n",
    "  df1['date_day'] = df1['visit_date'].apply(lambda x: x.day)\n",
    "  return df1\n",
    "\n",
    "def split(df1):\n",
    "  split_df1 = df1['device_screen_resolution'].str.split('x',expand=True)\n",
    "  split_df1.columns=['screen_height','screen_width']\n",
    "  split_df1 = split_df1.dropna()\n",
    "  split_df1 = split_df1.astype(int)\n",
    "  df1 = df1.join(split_df1)\n",
    "  return df1\n",
    "\n",
    "\n",
    "\n",
    "def filter_data(df1):\n",
    "  df1 = df1.drop(columns=['session_id', 'client_id', 'visit_date', 'visit_time', 'device_screen_resolution'], axis=1)\n",
    "  return df1 \n",
    "\n",
    "\n",
    "numeric_features = ['visit_number', 'date_month', 'date_day', 'screen_height','screen_width']\n",
    "\n",
    "\n",
    "numerical_transformer = Pipeline(steps=[\n",
    "    ('scaler', StandardScaler())\n",
    "])\n",
    "\n",
    "\n",
    "categorical_transformer = Pipeline(steps=[\n",
    "    ('imputer', SimpleImputer(strategy='constant', fill_value='other')),\n",
    "    ('encoder', OneHotEncoder(drop='first', handle_unknown='ignore'))\n",
    "])\n",
    "\n",
    "\n",
    "preprocessor = Pipeline(steps=[\n",
    "    ('time', FunctionTransformer(time_add)),\n",
    "    ('split', FunctionTransformer(split)),\n",
    "    ('filter', FunctionTransformer(filter_data))\n",
    "])\n",
    "\n",
    "\n",
    "preprocessor2 = ColumnTransformer(transformers=[\n",
    "    ('numerical', numerical_transformer, numeric_features),\n",
    "    ('categorical', categorical_transformer, make_column_selector(dtype_include=object))\n",
    "])\n",
    "\n",
    "\n",
    "model = (\n",
    "    LogisticRegression(max_iter=1000)\n",
    ")\n",
    "\n",
    "\n",
    "X = df1.drop(['event_action'], axis=1)\n",
    "y = df1['event_action']\n",
    "\n",
    "\n",
    "pipe = Pipeline(steps=[\n",
    "        ('preprocessor', preprocessor),\n",
    "        ('preprocessor2', preprocessor2),\n",
    "        ('classifier', model)\n",
    "    ])\n",
    "\n",
    "\n",
    "pipe.fit(X, y)\n",
    "roc_auc = roc_auc_score(y, pipe.predict_proba(X)[:, 1])\n",
    "\n",
    "\n",
    "with open('event_pipe.pkl', 'wb') as file:\n",
    "    dill.dump({\n",
    "        'model': pipe,\n",
    "        'metadata': {\n",
    "            'name': 'event action prediction model',\n",
    "            'author': 'Kirill',\n",
    "            'version': 1,\n",
    "            'date': datetime.now(),\n",
    "            'roc_auc': roc_auc\n",
    "        }\n",
    "    }, file)\n",
    "\n",
    "\n",
    "print(roc_auc)"
   ],
   "metadata": {
    "id": "7YSdbJWLMB4I",
    "colab": {
     "base_uri": "https://localhost:8080/"
    },
    "outputId": "03a6c825-be66-4107-c070-deec1e00d7dd"
   },
   "execution_count": 7,
   "outputs": [
    {
     "name": "stdout",
     "output_type": "stream",
     "text": [
      "0.7185581766186973\n"
     ]
    }
   ]
  }
 ]
}
